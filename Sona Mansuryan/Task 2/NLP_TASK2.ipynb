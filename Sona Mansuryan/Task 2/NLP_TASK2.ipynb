{
  "nbformat": 4,
  "nbformat_minor": 0,
  "metadata": {
    "colab": {
      "provenance": []
    },
    "kernelspec": {
      "name": "python3",
      "display_name": "Python 3"
    },
    "language_info": {
      "name": "python"
    }
  },
  "cells": [
    {
      "cell_type": "markdown",
      "source": [
        "# **Problem 1: Extract Email Addresses**"
      ],
      "metadata": {
        "id": "30MLFnXZQs5T"
      }
    },
    {
      "cell_type": "code",
      "execution_count": null,
      "metadata": {
        "colab": {
          "base_uri": "https://localhost:8080/"
        },
        "id": "LyYkfpggPLxg",
        "outputId": "14cb8336-c760-4d53-8d3d-1eacbec22df6"
      },
      "outputs": [
        {
          "output_type": "stream",
          "name": "stdout",
          "text": [
            "support@example.com\n",
            "sales@company.org\n",
            "john.doe123@university.edu.\n"
          ]
        }
      ],
      "source": [
        "import re\n",
        "\n",
        "text = \"\"\"Contact us at support@example.com or sales@company.org for\n",
        "assistance. For personal inquiries, email john.doe123@university.edu.\"\"\"\n",
        "pattern = r'\\S*@\\S*'\n",
        "\n",
        "matches = re.findall(pattern, text)\n",
        "for i in matches:\n",
        "  print(i)"
      ]
    },
    {
      "cell_type": "markdown",
      "source": [
        "# **Problem 2: Validate Phone Number**"
      ],
      "metadata": {
        "id": "anGdetbvSCcI"
      }
    },
    {
      "cell_type": "code",
      "source": [
        "del input"
      ],
      "metadata": {
        "id": "IF6jHZCuVsHv"
      },
      "execution_count": null,
      "outputs": []
    },
    {
      "cell_type": "code",
      "source": [
        "import re\n",
        "\n",
        "user_input = input(\"Input Phone Number (xxx-xxx-xxxx): \")\n",
        "pattern = r'\\d{3}-\\d{3}-\\d{4}'\n",
        "\n",
        "if re.fullmatch(pattern, user_input):\n",
        "    print(\"Valid phone number:\", user_input)\n",
        "else:\n",
        "    print(\"Invalid phone number\")\n"
      ],
      "metadata": {
        "colab": {
          "base_uri": "https://localhost:8080/"
        },
        "id": "xU99hTDOSddk",
        "outputId": "2eb5c9c2-819f-44d1-d716-e26ea20bd403"
      },
      "execution_count": null,
      "outputs": [
        {
          "output_type": "stream",
          "name": "stdout",
          "text": [
            "Input Phone Number (xxx-xxx-xxxx): 123-456-7896\n",
            "Valid phone number: 123-456-7896\n"
          ]
        }
      ]
    },
    {
      "cell_type": "code",
      "source": [
        "import re\n",
        "\n",
        "text = \"Call us at 123-456-7890 or 987-654-3210. Old numbers: 12-345-67890, 1234567890\"\n",
        "pattern = r'\\d{3}-\\d{3}-\\d{4}'\n",
        "\n",
        "matches = re.findall(pattern, text)\n",
        "print(\"Valid phone numbers: \")\n",
        "for i in matches:\n",
        "  print(i)"
      ],
      "metadata": {
        "colab": {
          "base_uri": "https://localhost:8080/"
        },
        "id": "uBrBXUHEWOFK",
        "outputId": "61d19ff1-2017-4c85-a894-91a215a6d56d"
      },
      "execution_count": null,
      "outputs": [
        {
          "output_type": "stream",
          "name": "stdout",
          "text": [
            "Valid phone numbers: \n",
            "123-456-7890\n",
            "987-654-3210\n"
          ]
        }
      ]
    },
    {
      "cell_type": "markdown",
      "source": [
        "## **Problem 3: Extract Date**"
      ],
      "metadata": {
        "id": "8ggTj60lW5M0"
      }
    },
    {
      "cell_type": "code",
      "source": [
        "import re\n",
        "\n",
        "text = \"Important dates: 25/12/2023, 01-01-2024, 31/05/2023, and 15-10-2024.\"\n",
        "pattern = r'\\d{2}[/\\-]\\d{2}[/\\-]\\d{3}'\n",
        "\n",
        "dates = re.findall(pattern, text)\n",
        "for i in dates:\n",
        "  print(i)"
      ],
      "metadata": {
        "colab": {
          "base_uri": "https://localhost:8080/"
        },
        "id": "2R1uItqiXCHH",
        "outputId": "db80aa38-ed63-4433-8c65-967462eee5a7"
      },
      "execution_count": null,
      "outputs": [
        {
          "output_type": "stream",
          "name": "stdout",
          "text": [
            "25/12/202\n",
            "01-01-202\n",
            "31/05/202\n",
            "15-10-202\n"
          ]
        }
      ]
    },
    {
      "cell_type": "markdown",
      "source": [
        "# **Problem 4: Find Repeated Word**"
      ],
      "metadata": {
        "id": "WfFIOKFBzQrb"
      }
    },
    {
      "cell_type": "code",
      "source": [
        "import re\n",
        "from collections import Counter\n",
        "\n",
        "text = \"\"\"In the bustling city of New York, innovation drives the economy.\n",
        "Startups emerge every year, and innovation becomes a necessity for survival.\n",
        "The market rewards those who embrace change, but change is often accompanied\n",
        "by risk. Entrepreneurs must balance creativity with pragmatism, because\n",
        "success is fleeting if risk is ignored. Innovation and risk walk hand in hand,\n",
        "shaping the future of the city.\"\"\"\n",
        "words = re.findall(r'\\b\\w+\\b', text.lower())\n",
        "\n",
        "word_counts = Counter(words)\n",
        "print(\"Repeated words:\")\n",
        "for word, count in word_counts.items():\n",
        "  if count > 1:\n",
        "    print(f\"{word} ({count})\")"
      ],
      "metadata": {
        "colab": {
          "base_uri": "https://localhost:8080/"
        },
        "id": "-7fc-3gPapTF",
        "outputId": "039aaca2-8435-4c47-9a7c-71e09bd85ce8"
      },
      "execution_count": null,
      "outputs": [
        {
          "output_type": "stream",
          "name": "stdout",
          "text": [
            "Repeated words:\n",
            "in (2)\n",
            "the (5)\n",
            "city (2)\n",
            "of (2)\n",
            "innovation (3)\n",
            "and (2)\n",
            "change (2)\n",
            "is (3)\n",
            "risk (3)\n",
            "hand (2)\n"
          ]
        }
      ]
    },
    {
      "cell_type": "markdown",
      "source": [
        "# **Problem 5: Extract Hashtag**"
      ],
      "metadata": {
        "id": "mgPvYSxS0bna"
      }
    },
    {
      "cell_type": "code",
      "source": [
        "import re\n",
        "\n",
        "text = \"\"\"Check out our new products: #Sale2024, #NewArrival, and #Discounts!\"\"\"\n",
        "pattern = r'(?<!\\w)#\\w+'\n",
        "\n",
        "matches = re.findall(pattern, text)\n",
        "for i in matches:\n",
        "  print(i)"
      ],
      "metadata": {
        "colab": {
          "base_uri": "https://localhost:8080/"
        },
        "id": "9j5KoWtIas2X",
        "outputId": "ce38e024-194b-43d1-fe3e-dd0cb4b24b8d"
      },
      "execution_count": null,
      "outputs": [
        {
          "output_type": "stream",
          "name": "stdout",
          "text": [
            "#Sale2024\n",
            "#NewArrival\n",
            "#Discounts\n"
          ]
        }
      ]
    },
    {
      "cell_type": "markdown",
      "source": [
        "# **Problem 6: Validate Password Strengt**"
      ],
      "metadata": {
        "id": "-r3u0low6LQc"
      }
    },
    {
      "cell_type": "code",
      "source": [
        "import re\n",
        "\n",
        "passwords = [\"Password1\", \"Pass1234\", \"AbcDefGh1\", \"password1\", \"PASSWORD1\", \"Abc123\"]\n",
        "pattern = r'^(?=.*[a-z])(?=.*[A-Z])(?=.*\\d)\\w{8,}$'\n",
        "\n",
        "for i in passwords:\n",
        "  if re.fullmatch(pattern, i):\n",
        "     print(f\"{i}: Matches\")\n",
        "  else:\n",
        "    print(f\"{i}: No matches\")"
      ],
      "metadata": {
        "colab": {
          "base_uri": "https://localhost:8080/"
        },
        "id": "-sE6hjvg1DCB",
        "outputId": "754e3d71-1ec5-45b2-d3e9-a10adf2d0649"
      },
      "execution_count": null,
      "outputs": [
        {
          "output_type": "stream",
          "name": "stdout",
          "text": [
            "Password1: Matches\n",
            "Pass1234: Matches\n",
            "AbcDefGh1: Matches\n",
            "password1: No matches\n",
            "PASSWORD1: No matches\n",
            "Abc123: No matches\n"
          ]
        }
      ]
    },
    {
      "cell_type": "markdown",
      "source": [
        "# **Problem 7: Extract URL**"
      ],
      "metadata": {
        "id": "Mg-KYH65-aJc"
      }
    },
    {
      "cell_type": "code",
      "source": [
        "import re\n",
        "\n",
        "text = \"\"\"Visit our website at https://www.example.com or\n",
        "check out http://blog.example.org for updates.\"\"\"\n",
        "pattern = r'https?://[^\\s]+'\n",
        "\n",
        "matches = re.findall(pattern, text)\n",
        "for url in matches:\n",
        "  print(url)"
      ],
      "metadata": {
        "colab": {
          "base_uri": "https://localhost:8080/"
        },
        "id": "SHbQeJ_Y-hEK",
        "outputId": "80b275ba-660b-4f1c-a9ac-491f5df9ab4b"
      },
      "execution_count": null,
      "outputs": [
        {
          "output_type": "stream",
          "name": "stdout",
          "text": [
            "https://www.example.com\n",
            "http://blog.example.org\n"
          ]
        }
      ]
    },
    {
      "cell_type": "markdown",
      "source": [
        "# **Problem 8: Replace Multiple Spaces with a Single Spac**"
      ],
      "metadata": {
        "id": "WGucLiEU_8dY"
      }
    },
    {
      "cell_type": "code",
      "source": [
        "import re\n",
        "\n",
        "text = \"This   text    has   multiple    spaces.\"\n",
        "new_text = re.sub(r'\\s+', ' ', text)\n",
        "\n",
        "print(\"New Text:\", new_text)"
      ],
      "metadata": {
        "colab": {
          "base_uri": "https://localhost:8080/"
        },
        "id": "zobR1OCeADBj",
        "outputId": "3c23b8c2-101f-4c7b-acdd-94d738a6324f"
      },
      "execution_count": null,
      "outputs": [
        {
          "output_type": "stream",
          "name": "stdout",
          "text": [
            "New Text: This text has multiple spaces.\n"
          ]
        }
      ]
    },
    {
      "cell_type": "markdown",
      "source": [
        "# **Problem 9: Extract Quoted Text Текст**"
      ],
      "metadata": {
        "id": "uhDadM8TAd_f"
      }
    },
    {
      "cell_type": "code",
      "source": [
        "import re\n",
        "\n",
        "text = \"\"\"He said, \"Hello, world!\" and she replied, \"Hi there!\".\"\"\"\n",
        "matches = re.findall(r'\"(.*?)\"', text)\n",
        "\n",
        "for i in matches:\n",
        "  print(i)"
      ],
      "metadata": {
        "colab": {
          "base_uri": "https://localhost:8080/"
        },
        "id": "_WefXQ0UAtDa",
        "outputId": "eb1d82b0-7a00-441d-ec4a-1eb9d1a013e4"
      },
      "execution_count": null,
      "outputs": [
        {
          "output_type": "stream",
          "name": "stdout",
          "text": [
            "Hello, world!\n",
            "Hi there!\n"
          ]
        }
      ]
    },
    {
      "cell_type": "markdown",
      "source": [
        "# **Problem 10: Validate IP Addresse**"
      ],
      "metadata": {
        "id": "ayaCCizcAth5"
      }
    },
    {
      "cell_type": "code",
      "source": [
        "import re\n",
        "\n",
        "text = \"Valid: 192.168.1.1, 10.0.0.255 Invalid: 256.1.2.3, 192.168.01.1, 192.168.1\"\n",
        "pattern = r'\\b(?:(?:25[0-5]|2[0-4]\\d|1\\d\\d|[1-9]?\\d)\\.){3}(?:25[0-5]|2[0-4]\\d|1\\d\\d|[1-9]?\\d)\\b'\n",
        "\n",
        "matches = re.findall(pattern, text)\n",
        "print(\"Valid IP addresses:\")\n",
        "for ip in matches:\n",
        "    print(ip)"
      ],
      "metadata": {
        "colab": {
          "base_uri": "https://localhost:8080/"
        },
        "id": "Qu59t8KCAy2m",
        "outputId": "327c97b5-cbc6-4d2c-f412-3298b9e1514d"
      },
      "execution_count": null,
      "outputs": [
        {
          "output_type": "stream",
          "name": "stdout",
          "text": [
            "Valid IP addresses:\n",
            "192.168.1.1\n",
            "10.0.0.255\n"
          ]
        }
      ]
    }
  ]
}